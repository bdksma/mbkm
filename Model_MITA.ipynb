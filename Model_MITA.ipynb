{
  "cells": [
    {
      "cell_type": "markdown",
      "metadata": {
        "id": "view-in-github",
        "colab_type": "text"
      },
      "source": [
        "<a href=\"https://colab.research.google.com/github/bdksma/mbkm/blob/main/Model_MITA.ipynb\" target=\"_parent\"><img src=\"https://colab.research.google.com/assets/colab-badge.svg\" alt=\"Open In Colab\"/></a>"
      ]
    },
    {
      "cell_type": "markdown",
      "source": [
        "# Model Capstone Product Based CH2-PS081\n",
        "\n",
        "<table class=\"tfo-notebook-buttons\" align=\"left\">\n",
        "  <td>\n",
        "    <a target=\"_blank\" href=\"https://colab.research.google.com/drive/15ST_2Nmqlw3cw8U8Q_wHqPyaKd1YXTzq#scrollTo=J6Z17h4pO9VT\"><img src=\"https://www.tensorflow.org/images/colab_logo_32px.png\" />Run in Google Colab</a>\n",
        "  </td>\n",
        "  <td>\n",
        "    <a target=\"_blank\" href=\"https://github.com/MITA-Team/Machine-Learning/blob/main/Model.ipynb\"><img src=\"https://www.tensorflow.org/images/GitHub-Mark-32px.png\" />View source on GitHub</a>\n",
        "  </td>\n",
        "</table>"
      ],
      "metadata": {
        "id": "J6Z17h4pO9VT"
      }
    },
    {
      "cell_type": "code",
      "execution_count": null,
      "metadata": {
        "id": "m1JJJDUteosB"
      },
      "outputs": [],
      "source": [
        "import pandas as pd\n",
        "import numpy as np\n",
        "import tensorflow as tf\n",
        "import matplotlib.pyplot as plt\n",
        "from sklearn.preprocessing import StandardScaler, LabelEncoder\n",
        "import uuid"
      ]
    },
    {
      "cell_type": "code",
      "execution_count": null,
      "metadata": {
        "colab": {
          "base_uri": "https://localhost:8080/",
          "height": 256
        },
        "id": "hIfUixgLC_do",
        "outputId": "594c2641-9b27-4f9b-a3e4-12773d06b909"
      },
      "outputs": [
        {
          "output_type": "execute_result",
          "data": {
            "text/plain": [
              "   Case_No  A1  A2  A3  A4  A5  A6  A7  A8  A9  ...  Physical  Total  \\\n",
              "0        1   0   0   0   0   0   0   1   1   0  ...         2      3   \n",
              "1        2   1   1   0   0   0   1   1   0   0  ...         1      4   \n",
              "2        3   1   0   0   0   0   0   1   1   0  ...         2      4   \n",
              "3        4   1   1   1   1   1   1   1   1   1  ...         3     10   \n",
              "4        5   1   1   0   1   1   1   1   1   1  ...         3      9   \n",
              "\n",
              "   Age_Years  Sex  Jaundice  Family_mem_with_ASD  Who_completed_the_test  \\\n",
              "0          2    1         1                    0                       0   \n",
              "1          3    0         1                    0                       0   \n",
              "2          3    0         1                    0                       0   \n",
              "3          2    0         0                    0                       0   \n",
              "4          2    1         0                    1                       0   \n",
              "\n",
              "   ASD_traits  Therapy  Percentage  \n",
              "0           0        9   [0:2:2:2]  \n",
              "1           1        5   [1:2:1:4]  \n",
              "2           1        8   [1:3:2:3]  \n",
              "3           1        4   [3:4:3:9]  \n",
              "4           1        8   [2:4:3:8]  \n",
              "\n",
              "[5 rows x 24 columns]"
            ],
            "text/html": [
              "\n",
              "  <div id=\"df-88001807-928c-4049-a32e-8170f6be0115\" class=\"colab-df-container\">\n",
              "    <div>\n",
              "<style scoped>\n",
              "    .dataframe tbody tr th:only-of-type {\n",
              "        vertical-align: middle;\n",
              "    }\n",
              "\n",
              "    .dataframe tbody tr th {\n",
              "        vertical-align: top;\n",
              "    }\n",
              "\n",
              "    .dataframe thead th {\n",
              "        text-align: right;\n",
              "    }\n",
              "</style>\n",
              "<table border=\"1\" class=\"dataframe\">\n",
              "  <thead>\n",
              "    <tr style=\"text-align: right;\">\n",
              "      <th></th>\n",
              "      <th>Case_No</th>\n",
              "      <th>A1</th>\n",
              "      <th>A2</th>\n",
              "      <th>A3</th>\n",
              "      <th>A4</th>\n",
              "      <th>A5</th>\n",
              "      <th>A6</th>\n",
              "      <th>A7</th>\n",
              "      <th>A8</th>\n",
              "      <th>A9</th>\n",
              "      <th>...</th>\n",
              "      <th>Physical</th>\n",
              "      <th>Total</th>\n",
              "      <th>Age_Years</th>\n",
              "      <th>Sex</th>\n",
              "      <th>Jaundice</th>\n",
              "      <th>Family_mem_with_ASD</th>\n",
              "      <th>Who_completed_the_test</th>\n",
              "      <th>ASD_traits</th>\n",
              "      <th>Therapy</th>\n",
              "      <th>Percentage</th>\n",
              "    </tr>\n",
              "  </thead>\n",
              "  <tbody>\n",
              "    <tr>\n",
              "      <th>0</th>\n",
              "      <td>1</td>\n",
              "      <td>0</td>\n",
              "      <td>0</td>\n",
              "      <td>0</td>\n",
              "      <td>0</td>\n",
              "      <td>0</td>\n",
              "      <td>0</td>\n",
              "      <td>1</td>\n",
              "      <td>1</td>\n",
              "      <td>0</td>\n",
              "      <td>...</td>\n",
              "      <td>2</td>\n",
              "      <td>3</td>\n",
              "      <td>2</td>\n",
              "      <td>1</td>\n",
              "      <td>1</td>\n",
              "      <td>0</td>\n",
              "      <td>0</td>\n",
              "      <td>0</td>\n",
              "      <td>9</td>\n",
              "      <td>[0:2:2:2]</td>\n",
              "    </tr>\n",
              "    <tr>\n",
              "      <th>1</th>\n",
              "      <td>2</td>\n",
              "      <td>1</td>\n",
              "      <td>1</td>\n",
              "      <td>0</td>\n",
              "      <td>0</td>\n",
              "      <td>0</td>\n",
              "      <td>1</td>\n",
              "      <td>1</td>\n",
              "      <td>0</td>\n",
              "      <td>0</td>\n",
              "      <td>...</td>\n",
              "      <td>1</td>\n",
              "      <td>4</td>\n",
              "      <td>3</td>\n",
              "      <td>0</td>\n",
              "      <td>1</td>\n",
              "      <td>0</td>\n",
              "      <td>0</td>\n",
              "      <td>1</td>\n",
              "      <td>5</td>\n",
              "      <td>[1:2:1:4]</td>\n",
              "    </tr>\n",
              "    <tr>\n",
              "      <th>2</th>\n",
              "      <td>3</td>\n",
              "      <td>1</td>\n",
              "      <td>0</td>\n",
              "      <td>0</td>\n",
              "      <td>0</td>\n",
              "      <td>0</td>\n",
              "      <td>0</td>\n",
              "      <td>1</td>\n",
              "      <td>1</td>\n",
              "      <td>0</td>\n",
              "      <td>...</td>\n",
              "      <td>2</td>\n",
              "      <td>4</td>\n",
              "      <td>3</td>\n",
              "      <td>0</td>\n",
              "      <td>1</td>\n",
              "      <td>0</td>\n",
              "      <td>0</td>\n",
              "      <td>1</td>\n",
              "      <td>8</td>\n",
              "      <td>[1:3:2:3]</td>\n",
              "    </tr>\n",
              "    <tr>\n",
              "      <th>3</th>\n",
              "      <td>4</td>\n",
              "      <td>1</td>\n",
              "      <td>1</td>\n",
              "      <td>1</td>\n",
              "      <td>1</td>\n",
              "      <td>1</td>\n",
              "      <td>1</td>\n",
              "      <td>1</td>\n",
              "      <td>1</td>\n",
              "      <td>1</td>\n",
              "      <td>...</td>\n",
              "      <td>3</td>\n",
              "      <td>10</td>\n",
              "      <td>2</td>\n",
              "      <td>0</td>\n",
              "      <td>0</td>\n",
              "      <td>0</td>\n",
              "      <td>0</td>\n",
              "      <td>1</td>\n",
              "      <td>4</td>\n",
              "      <td>[3:4:3:9]</td>\n",
              "    </tr>\n",
              "    <tr>\n",
              "      <th>4</th>\n",
              "      <td>5</td>\n",
              "      <td>1</td>\n",
              "      <td>1</td>\n",
              "      <td>0</td>\n",
              "      <td>1</td>\n",
              "      <td>1</td>\n",
              "      <td>1</td>\n",
              "      <td>1</td>\n",
              "      <td>1</td>\n",
              "      <td>1</td>\n",
              "      <td>...</td>\n",
              "      <td>3</td>\n",
              "      <td>9</td>\n",
              "      <td>2</td>\n",
              "      <td>1</td>\n",
              "      <td>0</td>\n",
              "      <td>1</td>\n",
              "      <td>0</td>\n",
              "      <td>1</td>\n",
              "      <td>8</td>\n",
              "      <td>[2:4:3:8]</td>\n",
              "    </tr>\n",
              "  </tbody>\n",
              "</table>\n",
              "<p>5 rows × 24 columns</p>\n",
              "</div>\n",
              "    <div class=\"colab-df-buttons\">\n",
              "\n",
              "  <div class=\"colab-df-container\">\n",
              "    <button class=\"colab-df-convert\" onclick=\"convertToInteractive('df-88001807-928c-4049-a32e-8170f6be0115')\"\n",
              "            title=\"Convert this dataframe to an interactive table.\"\n",
              "            style=\"display:none;\">\n",
              "\n",
              "  <svg xmlns=\"http://www.w3.org/2000/svg\" height=\"24px\" viewBox=\"0 -960 960 960\">\n",
              "    <path d=\"M120-120v-720h720v720H120Zm60-500h600v-160H180v160Zm220 220h160v-160H400v160Zm0 220h160v-160H400v160ZM180-400h160v-160H180v160Zm440 0h160v-160H620v160ZM180-180h160v-160H180v160Zm440 0h160v-160H620v160Z\"/>\n",
              "  </svg>\n",
              "    </button>\n",
              "\n",
              "  <style>\n",
              "    .colab-df-container {\n",
              "      display:flex;\n",
              "      gap: 12px;\n",
              "    }\n",
              "\n",
              "    .colab-df-convert {\n",
              "      background-color: #E8F0FE;\n",
              "      border: none;\n",
              "      border-radius: 50%;\n",
              "      cursor: pointer;\n",
              "      display: none;\n",
              "      fill: #1967D2;\n",
              "      height: 32px;\n",
              "      padding: 0 0 0 0;\n",
              "      width: 32px;\n",
              "    }\n",
              "\n",
              "    .colab-df-convert:hover {\n",
              "      background-color: #E2EBFA;\n",
              "      box-shadow: 0px 1px 2px rgba(60, 64, 67, 0.3), 0px 1px 3px 1px rgba(60, 64, 67, 0.15);\n",
              "      fill: #174EA6;\n",
              "    }\n",
              "\n",
              "    .colab-df-buttons div {\n",
              "      margin-bottom: 4px;\n",
              "    }\n",
              "\n",
              "    [theme=dark] .colab-df-convert {\n",
              "      background-color: #3B4455;\n",
              "      fill: #D2E3FC;\n",
              "    }\n",
              "\n",
              "    [theme=dark] .colab-df-convert:hover {\n",
              "      background-color: #434B5C;\n",
              "      box-shadow: 0px 1px 3px 1px rgba(0, 0, 0, 0.15);\n",
              "      filter: drop-shadow(0px 1px 2px rgba(0, 0, 0, 0.3));\n",
              "      fill: #FFFFFF;\n",
              "    }\n",
              "  </style>\n",
              "\n",
              "    <script>\n",
              "      const buttonEl =\n",
              "        document.querySelector('#df-88001807-928c-4049-a32e-8170f6be0115 button.colab-df-convert');\n",
              "      buttonEl.style.display =\n",
              "        google.colab.kernel.accessAllowed ? 'block' : 'none';\n",
              "\n",
              "      async function convertToInteractive(key) {\n",
              "        const element = document.querySelector('#df-88001807-928c-4049-a32e-8170f6be0115');\n",
              "        const dataTable =\n",
              "          await google.colab.kernel.invokeFunction('convertToInteractive',\n",
              "                                                    [key], {});\n",
              "        if (!dataTable) return;\n",
              "\n",
              "        const docLinkHtml = 'Like what you see? Visit the ' +\n",
              "          '<a target=\"_blank\" href=https://colab.research.google.com/notebooks/data_table.ipynb>data table notebook</a>'\n",
              "          + ' to learn more about interactive tables.';\n",
              "        element.innerHTML = '';\n",
              "        dataTable['output_type'] = 'display_data';\n",
              "        await google.colab.output.renderOutput(dataTable, element);\n",
              "        const docLink = document.createElement('div');\n",
              "        docLink.innerHTML = docLinkHtml;\n",
              "        element.appendChild(docLink);\n",
              "      }\n",
              "    </script>\n",
              "  </div>\n",
              "\n",
              "\n",
              "<div id=\"df-b865c57b-900d-41e8-8052-af07de015200\">\n",
              "  <button class=\"colab-df-quickchart\" onclick=\"quickchart('df-b865c57b-900d-41e8-8052-af07de015200')\"\n",
              "            title=\"Suggest charts\"\n",
              "            style=\"display:none;\">\n",
              "\n",
              "<svg xmlns=\"http://www.w3.org/2000/svg\" height=\"24px\"viewBox=\"0 0 24 24\"\n",
              "     width=\"24px\">\n",
              "    <g>\n",
              "        <path d=\"M19 3H5c-1.1 0-2 .9-2 2v14c0 1.1.9 2 2 2h14c1.1 0 2-.9 2-2V5c0-1.1-.9-2-2-2zM9 17H7v-7h2v7zm4 0h-2V7h2v10zm4 0h-2v-4h2v4z\"/>\n",
              "    </g>\n",
              "</svg>\n",
              "  </button>\n",
              "\n",
              "<style>\n",
              "  .colab-df-quickchart {\n",
              "      --bg-color: #E8F0FE;\n",
              "      --fill-color: #1967D2;\n",
              "      --hover-bg-color: #E2EBFA;\n",
              "      --hover-fill-color: #174EA6;\n",
              "      --disabled-fill-color: #AAA;\n",
              "      --disabled-bg-color: #DDD;\n",
              "  }\n",
              "\n",
              "  [theme=dark] .colab-df-quickchart {\n",
              "      --bg-color: #3B4455;\n",
              "      --fill-color: #D2E3FC;\n",
              "      --hover-bg-color: #434B5C;\n",
              "      --hover-fill-color: #FFFFFF;\n",
              "      --disabled-bg-color: #3B4455;\n",
              "      --disabled-fill-color: #666;\n",
              "  }\n",
              "\n",
              "  .colab-df-quickchart {\n",
              "    background-color: var(--bg-color);\n",
              "    border: none;\n",
              "    border-radius: 50%;\n",
              "    cursor: pointer;\n",
              "    display: none;\n",
              "    fill: var(--fill-color);\n",
              "    height: 32px;\n",
              "    padding: 0;\n",
              "    width: 32px;\n",
              "  }\n",
              "\n",
              "  .colab-df-quickchart:hover {\n",
              "    background-color: var(--hover-bg-color);\n",
              "    box-shadow: 0 1px 2px rgba(60, 64, 67, 0.3), 0 1px 3px 1px rgba(60, 64, 67, 0.15);\n",
              "    fill: var(--button-hover-fill-color);\n",
              "  }\n",
              "\n",
              "  .colab-df-quickchart-complete:disabled,\n",
              "  .colab-df-quickchart-complete:disabled:hover {\n",
              "    background-color: var(--disabled-bg-color);\n",
              "    fill: var(--disabled-fill-color);\n",
              "    box-shadow: none;\n",
              "  }\n",
              "\n",
              "  .colab-df-spinner {\n",
              "    border: 2px solid var(--fill-color);\n",
              "    border-color: transparent;\n",
              "    border-bottom-color: var(--fill-color);\n",
              "    animation:\n",
              "      spin 1s steps(1) infinite;\n",
              "  }\n",
              "\n",
              "  @keyframes spin {\n",
              "    0% {\n",
              "      border-color: transparent;\n",
              "      border-bottom-color: var(--fill-color);\n",
              "      border-left-color: var(--fill-color);\n",
              "    }\n",
              "    20% {\n",
              "      border-color: transparent;\n",
              "      border-left-color: var(--fill-color);\n",
              "      border-top-color: var(--fill-color);\n",
              "    }\n",
              "    30% {\n",
              "      border-color: transparent;\n",
              "      border-left-color: var(--fill-color);\n",
              "      border-top-color: var(--fill-color);\n",
              "      border-right-color: var(--fill-color);\n",
              "    }\n",
              "    40% {\n",
              "      border-color: transparent;\n",
              "      border-right-color: var(--fill-color);\n",
              "      border-top-color: var(--fill-color);\n",
              "    }\n",
              "    60% {\n",
              "      border-color: transparent;\n",
              "      border-right-color: var(--fill-color);\n",
              "    }\n",
              "    80% {\n",
              "      border-color: transparent;\n",
              "      border-right-color: var(--fill-color);\n",
              "      border-bottom-color: var(--fill-color);\n",
              "    }\n",
              "    90% {\n",
              "      border-color: transparent;\n",
              "      border-bottom-color: var(--fill-color);\n",
              "    }\n",
              "  }\n",
              "</style>\n",
              "\n",
              "  <script>\n",
              "    async function quickchart(key) {\n",
              "      const quickchartButtonEl =\n",
              "        document.querySelector('#' + key + ' button');\n",
              "      quickchartButtonEl.disabled = true;  // To prevent multiple clicks.\n",
              "      quickchartButtonEl.classList.add('colab-df-spinner');\n",
              "      try {\n",
              "        const charts = await google.colab.kernel.invokeFunction(\n",
              "            'suggestCharts', [key], {});\n",
              "      } catch (error) {\n",
              "        console.error('Error during call to suggestCharts:', error);\n",
              "      }\n",
              "      quickchartButtonEl.classList.remove('colab-df-spinner');\n",
              "      quickchartButtonEl.classList.add('colab-df-quickchart-complete');\n",
              "    }\n",
              "    (() => {\n",
              "      let quickchartButtonEl =\n",
              "        document.querySelector('#df-b865c57b-900d-41e8-8052-af07de015200 button');\n",
              "      quickchartButtonEl.style.display =\n",
              "        google.colab.kernel.accessAllowed ? 'block' : 'none';\n",
              "    })();\n",
              "  </script>\n",
              "</div>\n",
              "    </div>\n",
              "  </div>\n"
            ]
          },
          "metadata": {},
          "execution_count": 2
        }
      ],
      "source": [
        "url = 'https://github.com/MITA-Team/Machine-Learning/raw/main/Datasets.csv'\n",
        "data = pd.read_csv(url)\n",
        "data.head(5)"
      ]
    },
    {
      "cell_type": "markdown",
      "metadata": {
        "id": "MwZc9_g52iBF"
      },
      "source": [
        "# Model Klasifikasi ASD"
      ]
    },
    {
      "cell_type": "code",
      "execution_count": null,
      "metadata": {
        "id": "dUkITtnwDKQb"
      },
      "outputs": [],
      "source": [
        "# Menginisialisasi data label dan input\n",
        "X = data.drop(['Therapy', 'ASD_traits', 'Percentage', 'Case_No'], axis=1)\n",
        "Y = data['ASD_traits']"
      ]
    },
    {
      "cell_type": "code",
      "execution_count": null,
      "metadata": {
        "id": "kQLiQ2kEzrtP"
      },
      "outputs": [],
      "source": [
        "# Split data dengan Training data 90% dan validation data 10%\n",
        "training_size= int(len(data)*0.9)\n",
        "\n",
        "X_train = X[:training_size]\n",
        "X_test = X[training_size:]\n",
        "Y_train = Y[:training_size]\n",
        "Y_test = Y[training_size:]"
      ]
    },
    {
      "cell_type": "code",
      "execution_count": null,
      "metadata": {
        "colab": {
          "base_uri": "https://localhost:8080/"
        },
        "id": "V98VUmNxTLW3",
        "outputId": "fbe02544-958a-4364-b2db-9b30d32a7b70"
      },
      "outputs": [
        {
          "output_type": "stream",
          "name": "stdout",
          "text": [
            "Model: \"sequential\"\n",
            "_________________________________________________________________\n",
            " Layer (type)                Output Shape              Param #   \n",
            "=================================================================\n",
            " dense (Dense)               (None, 512)               10752     \n",
            "                                                                 \n",
            " dense_1 (Dense)             (None, 128)               65664     \n",
            "                                                                 \n",
            " dense_2 (Dense)             (None, 128)               16512     \n",
            "                                                                 \n",
            " dense_3 (Dense)             (None, 64)                8256      \n",
            "                                                                 \n",
            " dropout (Dropout)           (None, 64)                0         \n",
            "                                                                 \n",
            " dense_4 (Dense)             (None, 1)                 65        \n",
            "                                                                 \n",
            "=================================================================\n",
            "Total params: 101249 (395.50 KB)\n",
            "Trainable params: 101249 (395.50 KB)\n",
            "Non-trainable params: 0 (0.00 Byte)\n",
            "_________________________________________________________________\n"
          ]
        }
      ],
      "source": [
        "# Model Klasifikasi ASD\n",
        "model1 = tf.keras.models.Sequential([\n",
        "    tf.keras.layers.Dense(512, activation='relu', input_shape=(X_train.shape[1],)),\n",
        "    tf.keras.layers.Dense(128, activation='relu'),\n",
        "    tf.keras.layers.Dense(128, activation='relu'),\n",
        "    tf.keras.layers.Dense(64, activation='relu'),\n",
        "    tf.keras.layers.Dropout(0.2),\n",
        "    tf.keras.layers.Dense(1, activation='linear')\n",
        "])\n",
        "model1.summary()"
      ]
    },
    {
      "cell_type": "code",
      "source": [
        "model1.compile(optimizer='Adam', loss='mean_squared_error')\n",
        "history_classification=model1.fit(X_train, Y_train, epochs=50, batch_size=50, validation_data=(X_test, Y_test))"
      ],
      "metadata": {
        "colab": {
          "base_uri": "https://localhost:8080/"
        },
        "id": "f1bbQaDyOw6u",
        "outputId": "0d7f87f5-51dd-4337-b230-d707307aed2e"
      },
      "execution_count": null,
      "outputs": [
        {
          "output_type": "stream",
          "name": "stdout",
          "text": [
            "Epoch 1/50\n",
            "41/41 [==============================] - 2s 15ms/step - loss: 0.1045 - val_loss: 0.0451\n",
            "Epoch 2/50\n",
            "41/41 [==============================] - 0s 7ms/step - loss: 0.0417 - val_loss: 0.0295\n",
            "Epoch 3/50\n",
            "41/41 [==============================] - 0s 7ms/step - loss: 0.0343 - val_loss: 0.0255\n",
            "Epoch 4/50\n",
            "41/41 [==============================] - 0s 7ms/step - loss: 0.0243 - val_loss: 0.0191\n",
            "Epoch 5/50\n",
            "41/41 [==============================] - 0s 7ms/step - loss: 0.0206 - val_loss: 0.0129\n",
            "Epoch 6/50\n",
            "41/41 [==============================] - 0s 7ms/step - loss: 0.0186 - val_loss: 0.0184\n",
            "Epoch 7/50\n",
            "41/41 [==============================] - 0s 8ms/step - loss: 0.0177 - val_loss: 0.0144\n",
            "Epoch 8/50\n",
            "41/41 [==============================] - 0s 8ms/step - loss: 0.0142 - val_loss: 0.0100\n",
            "Epoch 9/50\n",
            "41/41 [==============================] - 0s 12ms/step - loss: 0.0115 - val_loss: 0.0089\n",
            "Epoch 10/50\n",
            "41/41 [==============================] - 0s 11ms/step - loss: 0.0101 - val_loss: 0.0089\n",
            "Epoch 11/50\n",
            "41/41 [==============================] - 0s 7ms/step - loss: 0.0099 - val_loss: 0.0084\n",
            "Epoch 12/50\n",
            "41/41 [==============================] - 0s 11ms/step - loss: 0.0090 - val_loss: 0.0098\n",
            "Epoch 13/50\n",
            "41/41 [==============================] - 0s 8ms/step - loss: 0.0092 - val_loss: 0.0098\n",
            "Epoch 14/50\n",
            "41/41 [==============================] - 0s 10ms/step - loss: 0.0100 - val_loss: 0.0063\n",
            "Epoch 15/50\n",
            "41/41 [==============================] - 0s 8ms/step - loss: 0.0087 - val_loss: 0.0090\n",
            "Epoch 16/50\n",
            "41/41 [==============================] - 0s 8ms/step - loss: 0.0088 - val_loss: 0.0054\n",
            "Epoch 17/50\n",
            "41/41 [==============================] - 0s 8ms/step - loss: 0.0095 - val_loss: 0.0090\n",
            "Epoch 18/50\n",
            "41/41 [==============================] - 0s 9ms/step - loss: 0.0085 - val_loss: 0.0080\n",
            "Epoch 19/50\n",
            "41/41 [==============================] - 0s 9ms/step - loss: 0.0082 - val_loss: 0.0085\n",
            "Epoch 20/50\n",
            "41/41 [==============================] - 0s 8ms/step - loss: 0.0077 - val_loss: 0.0077\n",
            "Epoch 21/50\n",
            "41/41 [==============================] - 0s 9ms/step - loss: 0.0080 - val_loss: 0.0086\n",
            "Epoch 22/50\n",
            "41/41 [==============================] - 1s 18ms/step - loss: 0.0075 - val_loss: 0.0084\n",
            "Epoch 23/50\n",
            "41/41 [==============================] - 1s 12ms/step - loss: 0.0076 - val_loss: 0.0082\n",
            "Epoch 24/50\n",
            "41/41 [==============================] - 1s 14ms/step - loss: 0.0073 - val_loss: 0.0086\n",
            "Epoch 25/50\n",
            "41/41 [==============================] - 1s 16ms/step - loss: 0.0081 - val_loss: 0.0097\n",
            "Epoch 26/50\n",
            "41/41 [==============================] - 1s 18ms/step - loss: 0.0074 - val_loss: 0.0083\n",
            "Epoch 27/50\n",
            "41/41 [==============================] - 1s 13ms/step - loss: 0.0070 - val_loss: 0.0073\n",
            "Epoch 28/50\n",
            "41/41 [==============================] - 1s 15ms/step - loss: 0.0067 - val_loss: 0.0087\n",
            "Epoch 29/50\n",
            "41/41 [==============================] - 0s 9ms/step - loss: 0.0070 - val_loss: 0.0080\n",
            "Epoch 30/50\n",
            "41/41 [==============================] - 0s 11ms/step - loss: 0.0069 - val_loss: 0.0073\n",
            "Epoch 31/50\n",
            "41/41 [==============================] - 0s 11ms/step - loss: 0.0066 - val_loss: 0.0080\n",
            "Epoch 32/50\n",
            "41/41 [==============================] - 0s 9ms/step - loss: 0.0067 - val_loss: 0.0082\n",
            "Epoch 33/50\n",
            "41/41 [==============================] - 0s 9ms/step - loss: 0.0071 - val_loss: 0.0072\n",
            "Epoch 34/50\n",
            "41/41 [==============================] - 0s 9ms/step - loss: 0.0067 - val_loss: 0.0084\n",
            "Epoch 35/50\n",
            "41/41 [==============================] - 0s 8ms/step - loss: 0.0062 - val_loss: 0.0069\n",
            "Epoch 36/50\n",
            "41/41 [==============================] - 0s 8ms/step - loss: 0.0061 - val_loss: 0.0071\n",
            "Epoch 37/50\n",
            "41/41 [==============================] - 0s 9ms/step - loss: 0.0060 - val_loss: 0.0073\n",
            "Epoch 38/50\n",
            "41/41 [==============================] - 0s 9ms/step - loss: 0.0060 - val_loss: 0.0077\n",
            "Epoch 39/50\n",
            "41/41 [==============================] - 0s 7ms/step - loss: 0.0058 - val_loss: 0.0075\n",
            "Epoch 40/50\n",
            "41/41 [==============================] - 0s 10ms/step - loss: 0.0058 - val_loss: 0.0077\n",
            "Epoch 41/50\n",
            "41/41 [==============================] - 0s 9ms/step - loss: 0.0058 - val_loss: 0.0073\n",
            "Epoch 42/50\n",
            "41/41 [==============================] - 0s 9ms/step - loss: 0.0057 - val_loss: 0.0069\n",
            "Epoch 43/50\n",
            "41/41 [==============================] - 0s 9ms/step - loss: 0.0058 - val_loss: 0.0067\n",
            "Epoch 44/50\n",
            "41/41 [==============================] - 0s 9ms/step - loss: 0.0051 - val_loss: 0.0069\n",
            "Epoch 45/50\n",
            "41/41 [==============================] - 0s 10ms/step - loss: 0.0053 - val_loss: 0.0070\n",
            "Epoch 46/50\n",
            "41/41 [==============================] - 1s 12ms/step - loss: 0.0055 - val_loss: 0.0059\n",
            "Epoch 47/50\n",
            "41/41 [==============================] - 0s 9ms/step - loss: 0.0053 - val_loss: 0.0066\n",
            "Epoch 48/50\n",
            "41/41 [==============================] - 0s 9ms/step - loss: 0.0055 - val_loss: 0.0081\n",
            "Epoch 49/50\n",
            "41/41 [==============================] - 0s 10ms/step - loss: 0.0052 - val_loss: 0.0053\n",
            "Epoch 50/50\n",
            "41/41 [==============================] - 0s 9ms/step - loss: 0.0054 - val_loss: 0.0073\n"
          ]
        }
      ]
    },
    {
      "cell_type": "markdown",
      "metadata": {
        "id": "NiMBV5IL2iBI"
      },
      "source": [
        "Evaluasi model classification"
      ]
    },
    {
      "cell_type": "code",
      "execution_count": null,
      "metadata": {
        "id": "7FGB8ZZB79jI"
      },
      "outputs": [],
      "source": []
    },
    {
      "cell_type": "code",
      "execution_count": null,
      "metadata": {
        "colab": {
          "base_uri": "https://localhost:8080/",
          "height": 472
        },
        "id": "mjEf1Ch69e1f",
        "outputId": "91495743-c607-42b4-e7b5-ce4a792b8cc6"
      },
      "outputs": [
        {
          "output_type": "display_data",
          "data": {
            "text/plain": [
              "<Figure size 640x480 with 1 Axes>"
            ],
            "image/png": "[encoded data removed]"
          },
          "metadata": {}
        }
      ],
      "source": [
        "plt.plot(history_classification.history['loss'])\n",
        "plt.plot(history_classification.history['val_loss'])\n",
        "plt.title('Model Loss')\n",
        "plt.ylabel(\"Loss\")\n",
        "plt.xlabel('Epoch')\n",
        "plt.legend(['Train', 'validation'])\n",
        "plt.show()"
      ]
    },
    {
      "cell_type": "markdown",
      "metadata": {
        "id": "fyP_oxRl2iBJ"
      },
      "source": [
        "# Model Rekomendasi"
      ]
    },
    {
      "cell_type": "code",
      "execution_count": null,
      "metadata": {
        "id": "9ADa7q8I2iBJ"
      },
      "outputs": [],
      "source": [
        "# Menginisialisasi fitur dan label untuk sistem rekomendasi\n",
        "label_encoder = LabelEncoder()\n",
        "therapy = label_encoder.fit_transform(data['Therapy'])\n",
        "features = data[['Speech', 'Sensory', 'Physical', 'Social', 'Total','ASD_traits']]"
      ]
    },
    {
      "cell_type": "code",
      "execution_count": null,
      "metadata": {
        "id": "4CjtmF7H2iBK"
      },
      "outputs": [],
      "source": [
        "# Split data training 90% dan testing 10%\n",
        "x_train = features[:training_size]\n",
        "x_test = features[training_size:]\n",
        "y_train = therapy[:training_size]\n",
        "y_test = therapy[training_size:]\n",
        "\n",
        "# Normalize data\n",
        "x_train_norm = ((x_train * x_train.mean())/x_train.std()).to_numpy()\n",
        "x_test_norm = ((x_test * x_test.mean())/x_test.std()).to_numpy()\n",
        "\n",
        "# One hot encoding labels\n",
        "y_train_encoded = tf.keras.utils.to_categorical(y_train, num_classes=12)\n",
        "y_test_encoded = tf.keras.utils.to_categorical(y_test, num_classes=12)"
      ]
    },
    {
      "cell_type": "code",
      "execution_count": null,
      "metadata": {
        "id": "x14bbChH2iBK",
        "outputId": "5885ea67-547e-4d5a-f9f7-ccd27e4aeae9",
        "colab": {
          "base_uri": "https://localhost:8080/"
        }
      },
      "outputs": [
        {
          "output_type": "stream",
          "name": "stdout",
          "text": [
            "Model: \"sequential_1\"\n",
            "_________________________________________________________________\n",
            " Layer (type)                Output Shape              Param #   \n",
            "=================================================================\n",
            " dense_5 (Dense)             (None, 128)               896       \n",
            "                                                                 \n",
            " dense_6 (Dense)             (None, 128)               16512     \n",
            "                                                                 \n",
            " dense_7 (Dense)             (None, 64)                8256      \n",
            "                                                                 \n",
            " dropout_1 (Dropout)         (None, 64)                0         \n",
            "                                                                 \n",
            " dense_8 (Dense)             (None, 12)                780       \n",
            "                                                                 \n",
            "=================================================================\n",
            "Total params: 26444 (103.30 KB)\n",
            "Trainable params: 26444 (103.30 KB)\n",
            "Non-trainable params: 0 (0.00 Byte)\n",
            "_________________________________________________________________\n"
          ]
        }
      ],
      "source": [
        "model2 = tf.keras.Sequential([\n",
        "    tf.keras.layers.Dense(128, input_shape=(6,), activation=\"relu\"),\n",
        "    tf.keras.layers.Dense(128, activation='relu'),\n",
        "    tf.keras.layers.Dense(64, activation='relu'),\n",
        "    tf.keras.layers.Dropout(0.2),\n",
        "    tf.keras.layers.Dense(12, activation=\"softmax\")])\n",
        "model2.summary()"
      ]
    },
    {
      "cell_type": "code",
      "source": [
        "model2.compile(optimizer='adam', loss='categorical_crossentropy', metrics=['accuracy'])\n",
        "history_reccomendations = model2.fit(x_train, y_train_encoded, epochs=10, batch_size=32, verbose=1, validation_data=(x_test,y_test_encoded))"
      ],
      "metadata": {
        "colab": {
          "base_uri": "https://localhost:8080/"
        },
        "id": "dH4VethoPETl",
        "outputId": "dce338d6-08ac-4d67-e778-02402c076b68"
      },
      "execution_count": null,
      "outputs": [
        {
          "output_type": "stream",
          "name": "stdout",
          "text": [
            "Epoch 1/10\n",
            "64/64 [==============================] - 5s 13ms/step - loss: 1.5932 - accuracy: 0.4894 - val_loss: 1.4183 - val_accuracy: 0.6991\n",
            "Epoch 2/10\n",
            "64/64 [==============================] - 0s 5ms/step - loss: 0.9770 - accuracy: 0.7802 - val_loss: 0.8154 - val_accuracy: 0.8496\n",
            "Epoch 3/10\n",
            "64/64 [==============================] - 0s 4ms/step - loss: 0.6282 - accuracy: 0.8546 - val_loss: 0.6287 - val_accuracy: 0.8805\n",
            "Epoch 4/10\n",
            "64/64 [==============================] - 0s 4ms/step - loss: 0.4816 - accuracy: 0.8980 - val_loss: 0.4914 - val_accuracy: 0.8894\n",
            "Epoch 5/10\n",
            "64/64 [==============================] - 0s 5ms/step - loss: 0.4232 - accuracy: 0.9088 - val_loss: 0.4511 - val_accuracy: 0.8938\n",
            "Epoch 6/10\n",
            "64/64 [==============================] - 0s 5ms/step - loss: 0.3951 - accuracy: 0.9167 - val_loss: 0.4617 - val_accuracy: 0.9071\n",
            "Epoch 7/10\n",
            "64/64 [==============================] - 0s 7ms/step - loss: 0.3518 - accuracy: 0.9256 - val_loss: 0.4113 - val_accuracy: 0.8938\n",
            "Epoch 8/10\n",
            "64/64 [==============================] - 0s 6ms/step - loss: 0.3573 - accuracy: 0.9251 - val_loss: 0.4004 - val_accuracy: 0.9071\n",
            "Epoch 9/10\n",
            "64/64 [==============================] - 0s 5ms/step - loss: 0.3319 - accuracy: 0.9305 - val_loss: 0.3967 - val_accuracy: 0.9071\n",
            "Epoch 10/10\n",
            "64/64 [==============================] - 0s 5ms/step - loss: 0.3187 - accuracy: 0.9345 - val_loss: 0.4313 - val_accuracy: 0.9071\n"
          ]
        }
      ]
    },
    {
      "cell_type": "code",
      "execution_count": null,
      "metadata": {
        "id": "DlsRXprB2iBL",
        "outputId": "5d18eb35-eaff-4b0e-c14c-5dc84d94369c",
        "colab": {
          "base_uri": "https://localhost:8080/",
          "height": 472
        }
      },
      "outputs": [
        {
          "output_type": "display_data",
          "data": {
            "text/plain": [
              "<Figure size 640x480 with 1 Axes>"
            ],
            "image/png": "[encoded data removed]"
          },
          "metadata": {}
        }
      ],
      "source": [
        "plt.plot(history_reccomendations.history['accuracy'])\n",
        "plt.plot(history_reccomendations.history['val_accuracy'])\n",
        "plt.title('Model Accuracy Reccomendation System')\n",
        "plt.ylabel(\"Accuracy\")\n",
        "plt.xlabel('Epoch')\n",
        "plt.legend(['Train', 'validation'], loc='upper left')\n",
        "plt.show()"
      ]
    },
    {
      "cell_type": "code",
      "execution_count": null,
      "metadata": {
        "id": "cSMvcVgB2iBL",
        "outputId": "ae5e3623-e315-4e29-d469-11a73add71de",
        "colab": {
          "base_uri": "https://localhost:8080/",
          "height": 472
        }
      },
      "outputs": [
        {
          "output_type": "display_data",
          "data": {
            "text/plain": [
              "<Figure size 640x480 with 1 Axes>"
            ],
            "image/png": "[encoded data removed]"
          },
          "metadata": {}
        }
      ],
      "source": [
        "plt.plot(history_reccomendations.history['loss'])\n",
        "plt.plot(history_reccomendations.history['val_loss'])\n",
        "plt.title('Model Loss Reccomendation System')\n",
        "plt.ylabel(\"Loss\")\n",
        "plt.xlabel('Epoch')\n",
        "plt.legend(['Train', 'validation'])\n",
        "plt.show()"
      ]
    },
    {
      "cell_type": "markdown",
      "source": [
        "# Prediksi model\n",
        "\n",
        "Prediksi Klasifikasi"
      ],
      "metadata": {
        "id": "kfmItVyBcrLe"
      }
    },
    {
      "cell_type": "code",
      "execution_count": null,
      "metadata": {
        "id": "dnxOYOqxAEPz",
        "colab": {
          "base_uri": "https://localhost:8080/"
        },
        "outputId": "71c0b2e8-a849-40f9-a8c2-277395033406"
      },
      "outputs": [
        {
          "name": "stdout",
          "output_type": "stream",
          "text": [
            "A1: 1\n",
            "A2: 1\n",
            "A3: 1\n",
            "A4: 0\n",
            "A5: 0\n",
            "A6: 1\n",
            "A7: 0\n",
            "A8: 1\n",
            "A9: 0\n",
            "A10: 1\n",
            "Age: 1\n",
            "Sex: 1\n",
            "Jaudience: 0\n",
            "Family_mem_with_ASD: 1\n",
            "Who_completed_the_test: 1\n"
          ]
        }
      ],
      "source": [
        "# Input Time!\n",
        "input_A1 = int(input('A1: '))\n",
        "input_A2 = int(input('A2: '))\n",
        "input_A3 = int(input('A3: '))\n",
        "input_A4 = int(input('A4: '))\n",
        "input_A5 = int(input('A5: '))\n",
        "input_A6 = int(input('A6: '))\n",
        "input_A7 = int(input('A7: '))\n",
        "input_A8 = int(input('A8: '))\n",
        "input_A9 = int(input('A9: '))\n",
        "input_A10 = int(input('A10: '))\n",
        "input_speech = input_A1 + input_A5 + input_A3\n",
        "input_social = input_A1 + input_A2 + input_A3 + input_A4 + input_A5+ input_A6 + input_A7 + input_A9 + input_A10\n",
        "input_sensory = input_A1 + input_A6 + input_A8 + input_A10\n",
        "input_physical = input_A7 + input_A8 + input_A9\n",
        "input_total = input_A1 + input_A2 + input_A3 + input_A4 + input_A5 + input_A6 + input_A7 + input_A8 + input_A9 + input_A10\n",
        "input_Ages_Years = int(input('Age: '))\n",
        "input_Sex = int(input('Sex: '))\n",
        "input_Jaudience = int(input('Jaudience: '))\n",
        "input_Family_mem_with_ASD = int(input('Family_mem_with_ASD: '))\n",
        "input_Who_completed_the_test = int(input('Who_completed_the_test: '))"
      ]
    },
    {
      "cell_type": "code",
      "execution_count": null,
      "metadata": {
        "id": "4-lJwHW-kIjY"
      },
      "outputs": [],
      "source": [
        "input = [[input_A1, input_A2, input_A3, input_A4, input_A5, input_A6, input_A7,\n",
        "      input_A8, input_A9, input_A10, input_speech, input_social, input_sensory,\n",
        "      input_physical, input_total, input_Ages_Years, input_Sex, input_Jaudience,\n",
        "      input_Family_mem_with_ASD, input_Who_completed_the_test]]\n",
        "user_input = pd.DataFrame(input,\n",
        "    columns=[\"A1\", \"A2\", \"A3\", \"A4\", \"A5\", \"A6\", \"A7\", \"A8\", \"A9\", \"A10\",\n",
        "             \"Speech\", \"Sensory\", \"Physical\", \"Social\", \"Total\", \"Age_Years\",\n",
        "             \"Sex\", \"Jaudience\", \"Family_mem_with_ASD\",\"Who_completed_the_test\"]\n",
        ")"
      ]
    },
    {
      "cell_type": "code",
      "execution_count": null,
      "metadata": {
        "id": "EEv0ETtbR7WZ",
        "colab": {
          "base_uri": "https://localhost:8080/"
        },
        "outputId": "976f7363-89f1-4327-8cfc-99e77cff4e50"
      },
      "outputs": [
        {
          "output_type": "stream",
          "name": "stdout",
          "text": [
            "1/1 [==============================] - 0s 110ms/step\n",
            "\n",
            "[[1.0120506]] menunjukkan gejala ASD\n"
          ]
        }
      ],
      "source": [
        "predictions = model1.predict(user_input)\n",
        "# Mengevaluasi hasil prediksi (berdasarkan threshold 0.5)\n",
        "predicted_labels = (predictions > 0.5).astype(int)\n",
        "print()\n",
        "if predicted_labels==1:\n",
        "    print(f\"{predictions} menunjukkan gejala ASD\")\n",
        "else:\n",
        "    print(f\"{predictions} tidak menunukkan gejala ASD\")"
      ]
    },
    {
      "cell_type": "code",
      "source": [
        "import matplotlib.pyplot as plt\n",
        "import uuid\n",
        "def percentage_delay(A):\n",
        "    categories = ['speech', 'social', 'sensory', 'physical']\n",
        "    a_cat_list = [\n",
        "        [1, 1, 1, 0],\n",
        "        [0, 1, 0, 0],\n",
        "        [1, 1, 0, 0],\n",
        "        [0, 1, 0, 0],\n",
        "        [1, 1, 0, 0],\n",
        "        [0, 1, 1, 0],\n",
        "        [0, 1, 0, 1],\n",
        "        [0, 0, 1, 1],\n",
        "        [0, 1, 0, 1],\n",
        "        [0, 1, 1, 0]\n",
        "    ]\n",
        "\n",
        "    total_cases = len(A)\n",
        "    category_sums = {category: 0 for category in categories}\n",
        "\n",
        "    for i in range(total_cases):\n",
        "        current_a = A[i]\n",
        "\n",
        "        if current_a == 1:\n",
        "            current_a_cat = a_cat_list[i]\n",
        "            for j in range(len(categories)):\n",
        "                category_sums[categories[j]] += current_a_cat[j]\n",
        "\n",
        "    # Calculate the total sum across all categories\n",
        "    total_sum = sum(category_sums.values())\n",
        "\n",
        "    # Calculate the percentage for each category\n",
        "    category_percentages = {category: (count / total_sum) * 100 for category, count in category_sums.items()}\n",
        "\n",
        "    # Create a pie chart\n",
        "    labels = list(category_percentages.keys())\n",
        "    sizes = list(category_percentages.values())\n",
        "\n",
        "    #add colors\n",
        "    colors = [\"#ff9999\",\"#66b3ff\",\"#99ff99\",\"#ffcc99\"]\n",
        "\n",
        "    plt.pie(sizes, labels=labels, autopct='%1.1f%%', startangle=90, colors=colors)\n",
        "    plt.axis('equal')  # Equal aspect ratio ensures that the pie chart is drawn as a circle.\n",
        "\n",
        "    plt.title('Percentage Delay by Category')\n",
        "    nama_gambar = str(uuid.uuid4()) + '.png'\n",
        "    # Menyimpan gambar\n",
        "    plt.savefig(nama_gambar)\n",
        "    print('Nama gambar: ', nama_gambar)\n",
        "    plt.show()\n",
        "\n",
        "\n",
        "A = [input_A1, input_A2, input_A3, input_A4, input_A5, input_A6, input_A7, input_A8, input_A9, input_A10]\n",
        "percentage_delay(A)"
      ],
      "metadata": {
        "id": "Q-hy6-V4GWw2",
        "colab": {
          "base_uri": "https://localhost:8080/",
          "height": 446
        },
        "outputId": "cbb6c5dc-51e2-4f7f-a3d7-0e83e59b46b1"
      },
      "execution_count": null,
      "outputs": [
        {
          "output_type": "stream",
          "name": "stdout",
          "text": [
            "Nama gambar:  c3077ea5-f2a5-4cdb-be30-51ac856ceb4b.png\n"
          ]
        },
        {
          "output_type": "display_data",
          "data": {
            "text/plain": [
              "<Figure size 640x480 with 1 Axes>"
            ],
            "image/png": "[encoded data removed]"
          },
          "metadata": {}
        }
      ]
    },
    {
      "cell_type": "markdown",
      "source": [
        "Melakukan prediksi untuk terapy"
      ],
      "metadata": {
        "id": "l90B34LnJqz7"
      }
    },
    {
      "cell_type": "code",
      "execution_count": null,
      "metadata": {
        "id": "xRD3qQ_l2iBM"
      },
      "outputs": [],
      "source": [
        "# Memasukkan prediksi ASD ke dalam frame yang sama\n",
        "# Untuk selanjutnya masuk ke rekomendasi terapi\n",
        "user_input['ASD_traits'] = predicted_labels\n",
        "user_input = user_input[['Speech', 'Sensory', 'Physical', 'Social', 'Total', 'ASD_traits']]\n"
      ]
    },
    {
      "cell_type": "code",
      "execution_count": null,
      "metadata": {
        "id": "Im825xNX2iBN",
        "colab": {
          "base_uri": "https://localhost:8080/"
        },
        "outputId": "2d3e0533-4baa-42be-c44d-d65af8c92292"
      },
      "outputs": [
        {
          "output_type": "stream",
          "name": "stdout",
          "text": [
            "1/1 [==============================] - 0s 65ms/step\n",
            "Top 3 Rekomendasi Terpi:\n",
            "Colorful Vulcano\n",
            "Sentuhan Ajaib\n",
            "Tiru Suara Fauna\n"
          ]
        }
      ],
      "source": [
        "predictions = model2.predict(user_input)\n",
        "# Mengambil 5 hasil prediksi tertinggi\n",
        "top_n = 3\n",
        "top_indices = np.argsort(predictions[0])[::-1][:top_n]\n",
        "top_probabilities = predictions[0][top_indices]\n",
        "\n",
        "label_asli = {1: \"Tiru Suara Fauna\",\n",
        "              2: \"Abeceria Anak\",\n",
        "              3: \"Wicara Terapi\",\n",
        "              4: \"SociPlay Therapy\",\n",
        "              5: \"InterActElevate Therapy\",\n",
        "              6: \"SosioLeap Therapy\",\n",
        "              7: \"Sentuhan Ajaib\",\n",
        "              8: \"Colorful Vulcano\",\n",
        "              9: \"Sensori Kreatif\",\n",
        "              10: \"Rhythmika Anak\",\n",
        "              11: \"Nature Play\",\n",
        "              12: \"JoyMotion\"}\n",
        "\n",
        "# Menampilkan hasil prediksi dalam bentuk label asli\n",
        "print(f\"Top {top_n} Rekomendasi Terpi:\")\n",
        "for label, prob in zip(top_indices, top_probabilities):\n",
        "    original_label = label_asli[label]\n",
        "    print(f\"{original_label}\")"
      ]
    },
    {
      "cell_type": "code",
      "source": [
        "# Save model\n",
        "model1.save(\"Model1.h5\")\n",
        "model2.save(\"Model2.h5\")"
      ],
      "metadata": {
        "colab": {
          "base_uri": "https://localhost:8080/"
        },
        "id": "qebTx64UfJev",
        "outputId": "42ade655-162a-4733-df6e-e79bcea757cb"
      },
      "execution_count": null,
      "outputs": [
        {
          "output_type": "stream",
          "name": "stderr",
          "text": [
            "/usr/local/lib/python3.10/dist-packages/keras/src/engine/training.py:3103: UserWarning: You are saving your model as an HDF5 file via `model.save()`. This file format is considered legacy. We recommend using instead the native Keras format, e.g. `model.save('my_model.keras')`.\n",
            "  saving_api.save_model(\n"
          ]
        }
      ]
    },
    {
      "cell_type": "code",
      "source": [
        "# Konversi kedua model ke dalam format TFLite (.tflite)\n",
        "converter1 = tf.lite.TFLiteConverter.from_keras_model(model1)\n",
        "tflite_m1 = converter1.convert()\n",
        "\n",
        "converter2 = tf.lite.TFLiteConverter.from_keras_model(model2)\n",
        "tflite_m2 = converter2.convert()\n",
        "\n",
        "combine_converter = tflite_m1 + tflite_m2\n",
        "# Simpan kedua model TFLite ke dalam file yang sama\n",
        "with open(\"Model.tflite\", \"wb\") as f:\n",
        "    f.write(combine_converter)"
      ],
      "metadata": {
        "id": "A4b0y0phfLQ2"
      },
      "execution_count": null,
      "outputs": []
    }
  ],
  "metadata": {
    "colab": {
      "provenance": [],
      "include_colab_link": true
    },
    "kernelspec": {
      "display_name": "Python 3",
      "name": "python3"
    },
    "language_info": {
      "codemirror_mode": {
        "name": "ipython",
        "version": 3
      },
      "file_extension": ".py",
      "mimetype": "text/x-python",
      "name": "python",
      "nbconvert_exporter": "python",
      "pygments_lexer": "ipython3",
      "version": "3.11.2"
    }
  },
  "nbformat": 4,
  "nbformat_minor": 0
}